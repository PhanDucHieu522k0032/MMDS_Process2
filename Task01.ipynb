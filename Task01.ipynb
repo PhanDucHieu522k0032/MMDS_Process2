{
  "cells": [
    {
      "cell_type": "code",
      "execution_count": null,
      "metadata": {
        "id": "v5SXPuEBIluT",
        "collapsed": true
      },
      "outputs": [],
      "source": [
        "! apt-get install openjdk-8-jdk-headless -qq > /dev/null\n",
        "! wget -q https://archive.apache.org/dist/spark/spark-3.5.4/spark-3.5.4-bin-hadoop3.tgz\n",
        "! tar xf spark-3.5.4-bin-hadoop3.tgz\n",
        "! pip install -q findspark"
      ]
    },
    {
      "cell_type": "code",
      "execution_count": null,
      "metadata": {
        "colab": {
          "base_uri": "https://localhost:8080/"
        },
        "id": "oQrwbvL7JG2J",
        "outputId": "84394263-b887-4161-8662-f0b2d69d00ec"
      },
      "outputs": [
        {
          "output_type": "stream",
          "name": "stdout",
          "text": [
            "383M\tspark-3.5.4-bin-hadoop3.tgz\n"
          ]
        }
      ],
      "source": [
        "! du -sh spark-3.5.4-bin-hadoop3.tgz"
      ]
    },
    {
      "cell_type": "code",
      "execution_count": null,
      "metadata": {
        "id": "zto95fUoJLnx"
      },
      "outputs": [],
      "source": [
        "import findspark\n",
        "findspark.init()"
      ]
    },
    {
      "cell_type": "code",
      "execution_count": null,
      "metadata": {
        "id": "OzLrWo4rKXnQ"
      },
      "outputs": [],
      "source": [
        "import os\n",
        "\n",
        "os.environ[\"JAVA_HOME\"] = \"/usr/lib/jvm/java-8-openjdk-amd64\"\n",
        "os.environ[\"SPARK_HOME\"] = \"/content/spark-3.5.4-bin-hadoop3\""
      ]
    },
    {
      "cell_type": "code",
      "execution_count": null,
      "metadata": {
        "colab": {
          "base_uri": "https://localhost:8080/"
        },
        "id": "GVxKl9zrJIWa",
        "outputId": "7415013e-4c02-4081-8e1e-a64d57098132"
      },
      "outputs": [
        {
          "output_type": "stream",
          "name": "stdout",
          "text": [
            "/usr/lib/jvm/java-8-openjdk-amd64\n"
          ]
        }
      ],
      "source": [
        "! echo $JAVA_HOME"
      ]
    },
    {
      "cell_type": "code",
      "execution_count": null,
      "metadata": {
        "colab": {
          "base_uri": "https://localhost:8080/"
        },
        "id": "8U5KkewOJKb3",
        "outputId": "a8bcafe5-2b8b-4fb5-d155-48305031be62"
      },
      "outputs": [
        {
          "output_type": "stream",
          "name": "stdout",
          "text": [
            "/content/spark-3.5.4-bin-hadoop3\n"
          ]
        }
      ],
      "source": [
        "! echo $SPARK_HOME"
      ]
    },
    {
      "cell_type": "code",
      "execution_count": null,
      "metadata": {
        "colab": {
          "base_uri": "https://localhost:8080/"
        },
        "id": "gc0IKI3dJM8w",
        "outputId": "c8fdbacd-e61e-4aaf-cfe6-f2eba2a88ebb"
      },
      "outputs": [
        {
          "output_type": "stream",
          "name": "stdout",
          "text": [
            "3.5.1\n"
          ]
        }
      ],
      "source": [
        "import pyspark as spark\n",
        "\n",
        "print(spark.__version__)"
      ]
    },
    {
      "cell_type": "markdown",
      "source": [
        "#Step 1: Initialize Spark Session and Install TQDM"
      ],
      "metadata": {
        "id": "HkvmfmXrVuUx"
      }
    },
    {
      "cell_type": "code",
      "execution_count": null,
      "metadata": {
        "id": "CaqroA_JK9qH",
        "colab": {
          "base_uri": "https://localhost:8080/"
        },
        "outputId": "c44c0645-d427-42b2-f303-76b83dcb4c23",
        "collapsed": true
      },
      "outputs": [
        {
          "output_type": "stream",
          "name": "stdout",
          "text": [
            "Spark session started.\n"
          ]
        }
      ],
      "source": [
        "from pyspark.sql import SparkSession\n",
        "import pyspark.sql.functions as F\n",
        "from pyspark.ml.evaluation import RegressionEvaluator\n",
        "from pyspark.sql.types import StructType, StructField, IntegerType, FloatType\n",
        "from collections import defaultdict\n",
        "import numpy as np\n",
        "import pickle\n",
        "import os\n",
        "import matplotlib.pyplot as plt\n",
        "\n",
        "spark = SparkSession.builder \\\n",
        "    .appName(\"CollaborativeFiltering\") \\\n",
        "    .config(\"spark.ui.showConsoleProgress\", \"false\") \\\n",
        "    .getOrCreate()\n",
        "\n",
        "print(\"Spark session started.\")"
      ]
    },
    {
      "cell_type": "markdown",
      "source": [
        "#Step 2: Load Data"
      ],
      "metadata": {
        "id": "W7bJcdqxVwU_"
      }
    },
    {
      "cell_type": "code",
      "source": [
        "ratings_df = spark.read.csv(\"ratings2k.csv\", header=True, inferSchema=True)\n",
        "ratings_df = ratings_df.select(\n",
        "    F.col(\"user\").cast(\"int\"),\n",
        "    F.col(\"item\").cast(\"int\"),\n",
        "    F.col(\"rating\").cast(\"float\")\n",
        ")\n",
        "\n",
        "train_df, test_df = ratings_df.randomSplit([0.8, 0.2], seed=42)\n",
        "\n",
        "print(f\"Training set: {train_df.count()} rows\")\n",
        "print(f\"Test set: {test_df.count()} rows\")"
      ],
      "metadata": {
        "id": "i_xbJnlF9OVR",
        "colab": {
          "base_uri": "https://localhost:8080/"
        },
        "outputId": "befac17d-c92b-458d-ed5b-2f8974c8fa01"
      },
      "execution_count": null,
      "outputs": [
        {
          "output_type": "stream",
          "name": "stdout",
          "text": [
            "Training set: 1949 rows\n",
            "Test set: 416 rows\n"
          ]
        }
      ]
    },
    {
      "cell_type": "markdown",
      "source": [
        "#Step 3: Collaborative Filtering Class"
      ],
      "metadata": {
        "id": "N69lwyAeV003"
      }
    },
    {
      "cell_type": "code",
      "source": [
        "class CollaborativeFiltering:\n",
        "    def __init__(self, N, train_df):\n",
        "        self.N = N\n",
        "        self.train_df = train_df\n",
        "        self.user_item_ratings = None\n",
        "        self.similarity_matrix = None\n",
        "\n",
        "    def fit(self, save_path=None):\n",
        "        print(\"Building utility matrix...\")\n",
        "        user_item = self.train_df.groupBy(\"user\").agg(\n",
        "            F.collect_list(F.struct(\"item\", \"rating\")).alias(\"item_ratings\")\n",
        "        )\n",
        "        self.user_item_ratings = {row['user']: {x['item']: x['rating'] for x in row['item_ratings']} for row in user_item.collect()}\n",
        "\n",
        "        print(\"Computing Pearson similarity matrix...\")\n",
        "        users = list(self.user_item_ratings.keys())\n",
        "        self.similarity_matrix = {}\n",
        "        user_vectors = {}\n",
        "\n",
        "        #Precompute user vectors and common item sets\n",
        "        for u in users:\n",
        "            u_items = set(self.user_item_ratings[u].keys())\n",
        "            user_vectors[u] = u_items\n",
        "\n",
        "        #Compute similarities more efficiently with simple progress reporting\n",
        "        total_users = len(users)\n",
        "        for i in range(total_users):\n",
        "            u = users[i]\n",
        "            self.similarity_matrix[u] = {}\n",
        "            u_items = user_vectors[u]\n",
        "\n",
        "            if i % max(1, int(total_users/10)) == 0:\n",
        "                print(f\"Processing user {i+1}/{total_users} ({(i+1)/total_users*100:.1f}%)\")\n",
        "\n",
        "            #Compute similarities in bulk for each user\n",
        "            for j in range(i + 1, total_users):\n",
        "                v = users[j]\n",
        "                v_items = user_vectors[v]\n",
        "                common_items = u_items.intersection(v_items)\n",
        "\n",
        "                if len(common_items) < 2:\n",
        "                    continue\n",
        "\n",
        "                #Calculate similarity\n",
        "                sim = self._pearson_correlation(u, v, common_items)\n",
        "                if sim is not None:\n",
        "                    self.similarity_matrix[u][v] = sim\n",
        "                    self.similarity_matrix.setdefault(v, {})[u] = sim\n",
        "\n",
        "        print(\"Similarity matrix computation complete.\")\n",
        "        if save_path:\n",
        "            with open(save_path, 'wb') as f:\n",
        "                pickle.dump((self.user_item_ratings, self.similarity_matrix), f)\n",
        "            print(f\"Model saved to {save_path}\")\n",
        "\n",
        "    def load_model(self, load_path):\n",
        "        with open(load_path, 'rb') as f:\n",
        "            self.user_item_ratings, self.similarity_matrix = pickle.load(f)\n",
        "        print(f\"Model loaded from {load_path}\")\n",
        "\n",
        "    def _pearson_correlation(self, u, v, common_items=None):\n",
        "        u_ratings = self.user_item_ratings[u]\n",
        "        v_ratings = self.user_item_ratings[v]\n",
        "\n",
        "        if common_items is None:\n",
        "            common_items = set(u_ratings.keys()).intersection(set(v_ratings.keys()))\n",
        "\n",
        "        if len(common_items) < 2:\n",
        "            return None\n",
        "\n",
        "        u_array = np.array([u_ratings[i] for i in common_items])\n",
        "        v_array = np.array([v_ratings[i] for i in common_items])\n",
        "\n",
        "        u_mean = np.mean(u_array)\n",
        "        v_mean = np.mean(v_array)\n",
        "\n",
        "        num = np.sum((u_array - u_mean) * (v_array - v_mean))\n",
        "        den_u = np.sqrt(np.sum((u_array - u_mean) ** 2))\n",
        "        den_v = np.sqrt(np.sum((v_array - v_mean) ** 2))\n",
        "\n",
        "        if den_u == 0 or den_v == 0:\n",
        "            return None\n",
        "\n",
        "        return float(num / (den_u * den_v))\n",
        "\n",
        "    def predict(self, user_id, top_k=10):\n",
        "        if user_id not in self.user_item_ratings:\n",
        "            print(f\"User {user_id} not found in the training data.\")\n",
        "            return None\n",
        "\n",
        "        target_vector = self.user_item_ratings[user_id]\n",
        "\n",
        "        #Get similarity scores\n",
        "        similarities = []\n",
        "        for other_user, sim in self.similarity_matrix.get(user_id, {}).items():\n",
        "            if sim > 0:\n",
        "                similarities.append((other_user, sim))\n",
        "\n",
        "        if not similarities:\n",
        "            #print(f\"No similar users found for User {user_id}. Returning empty recommendations.\")\n",
        "            empty_schema = StructType([\n",
        "                StructField(\"item\", IntegerType(), True),\n",
        "                StructField(\"predicted_rating\", FloatType(), True),\n",
        "            ])\n",
        "            return spark.createDataFrame([], empty_schema)\n",
        "\n",
        "        #Select top-N similar users\n",
        "        similarities.sort(key=lambda x: x[1], reverse=True)\n",
        "        top_neighbors = similarities[:self.N]\n",
        "\n",
        "        # reate dictionaries to track item scores and similarity sums\n",
        "        from collections import defaultdict\n",
        "        item_scores = defaultdict(float)\n",
        "        sim_sums = defaultdict(float)\n",
        "\n",
        "        #Process all neighbors\n",
        "        for neighbor_id, sim_score in top_neighbors:p\n",
        "            unseen_items = {item: rating for item, rating in neighbor_vector.items()\n",
        "                           if item not in target_vector}\n",
        "\n",
        "            for item, rating in unseen_items.items():\n",
        "                item_scores[item] += sim_score * rating\n",
        "                sim_sums[item] += sim_score\n",
        "        predicted_scores = [(int(item), float(score/sim_sums[item]))\n",
        "                           for item, score in item_scores.items()\n",
        "                           if sim_sums[item] > 0]\n",
        "\n",
        "        if not predicted_scores:\n",
        "            #print(f\"No unseen items to recommend for User {user_id}. Returning empty recommendations.\")\n",
        "            empty_schema = StructType([\n",
        "                StructField(\"item\", IntegerType(), True),\n",
        "                StructField(\"predicted_rating\", FloatType(), True),\n",
        "            ])\n",
        "            return spark.createDataFrame([], empty_schema)\n",
        "\n",
        "        #Sort and pick top-k recommendations\n",
        "        predicted_scores.sort(key=lambda x: x[1], reverse=True)\n",
        "        top_recommendations = predicted_scores[:top_k]\n",
        "\n",
        "        #Create DataFrame\n",
        "        schema = StructType([\n",
        "            StructField(\"item\", IntegerType(), True),\n",
        "            StructField(\"predicted_rating\", FloatType(), True),\n",
        "        ])\n",
        "        return spark.createDataFrame(top_recommendations, schema)"
      ],
      "metadata": {
        "id": "h15NUJ9cVjlQ"
      },
      "execution_count": null,
      "outputs": []
    },
    {
      "cell_type": "markdown",
      "source": [
        "#Step 4: Training or Loading Model"
      ],
      "metadata": {
        "id": "6Dpgmn2hV2Tf"
      }
    },
    {
      "cell_type": "code",
      "source": [
        "model_save_path = \"/content/cf_model.pkl\"\n",
        "\n",
        "cf_model = CollaborativeFiltering(N=5, train_df=train_df)\n",
        "if os.path.exists(model_save_path):\n",
        "    cf_model.load_model(model_save_path)\n",
        "else:\n",
        "    cf_model.fit(save_path=model_save_path)\n",
        "\n",
        "print(\"Model ready.\")"
      ],
      "metadata": {
        "colab": {
          "base_uri": "https://localhost:8080/"
        },
        "id": "20GgfZ70VkBX",
        "outputId": "8ecd1eab-1a4a-4265-9275-76fed88b6482"
      },
      "execution_count": null,
      "outputs": [
        {
          "output_type": "stream",
          "name": "stdout",
          "text": [
            "Building utility matrix...\n",
            "Computing Pearson similarity matrix...\n",
            "Processing user 1/74 (1.4%)\n",
            "Processing user 8/74 (10.8%)\n",
            "Processing user 15/74 (20.3%)\n",
            "Processing user 22/74 (29.7%)\n",
            "Processing user 29/74 (39.2%)\n",
            "Processing user 36/74 (48.6%)\n",
            "Processing user 43/74 (58.1%)\n",
            "Processing user 50/74 (67.6%)\n",
            "Processing user 57/74 (77.0%)\n",
            "Processing user 64/74 (86.5%)\n",
            "Processing user 71/74 (95.9%)\n",
            "Similarity matrix computation complete.\n",
            "Model saved to /content/cf_model.pkl\n",
            "Model ready.\n"
          ]
        }
      ]
    },
    {
      "cell_type": "markdown",
      "source": [
        "#Step 5: Evaluate RMSE for N=2 to 16"
      ],
      "metadata": {
        "id": "BDOWlwVDV7GX"
      }
    },
    {
      "cell_type": "code",
      "source": [
        "rmse_results = []\n",
        "\n",
        "for N in range(2, 17):\n",
        "    model_N = CollaborativeFiltering(N=N, train_df=train_df)\n",
        "    model_N.load_model(model_save_path)  # Load saved model\n",
        "\n",
        "    preds = []\n",
        "    for row in test_df.collect():\n",
        "        uid, iid, actual = row[\"user\"], row[\"item\"], row[\"rating\"]\n",
        "\n",
        "        pred_df = model_N.predict(uid, top_k=100)\n",
        "        if pred_df is not None:\n",
        "            score_row = pred_df.filter(F.col(\"item\") == iid).select(\"predicted_rating\").first()\n",
        "            if score_row:\n",
        "                preds.append((float(score_row[\"predicted_rating\"]), actual))\n",
        "\n",
        "    if preds:\n",
        "        pred_sdf = spark.createDataFrame(preds, [\"prediction\", \"label\"])\n",
        "        evaluator = RegressionEvaluator(metricName=\"rmse\")\n",
        "        rmse = evaluator.evaluate(pred_sdf)\n",
        "        rmse_results.append((N, rmse))\n",
        "\n",
        "# Plot RMSE Results\n",
        "\n",
        "n_list, rmse_list = zip(*rmse_results)\n",
        "\n",
        "plt.figure(figsize=(10,6))\n",
        "plt.bar(n_list, rmse_list, color='skyblue')\n",
        "plt.xlabel(\"Number of Neighbors (N)\")\n",
        "plt.ylabel(\"RMSE\")\n",
        "plt.title(\"RMSE vs N in Collaborative Filtering\")\n",
        "plt.xticks(n_list)\n",
        "plt.grid(axis='y')\n",
        "plt.show()"
      ],
      "metadata": {
        "colab": {
          "base_uri": "https://localhost:8080/"
        },
        "id": "gZFs_Mw7VlYf",
        "outputId": "a5cccfaa-ff60-4678-b327-cd0a5cf5ce87"
      },
      "execution_count": null,
      "outputs": [
        {
          "output_type": "stream",
          "name": "stdout",
          "text": [
            "Model loaded from /content/cf_model.pkl\n",
            "Model loaded from /content/cf_model.pkl\n",
            "Model loaded from /content/cf_model.pkl\n",
            "Model loaded from /content/cf_model.pkl\n",
            "Model loaded from /content/cf_model.pkl\n",
            "Model loaded from /content/cf_model.pkl\n",
            "Model loaded from /content/cf_model.pkl\n",
            "Model loaded from /content/cf_model.pkl\n",
            "Model loaded from /content/cf_model.pkl\n",
            "Model loaded from /content/cf_model.pkl\n",
            "Model loaded from /content/cf_model.pkl\n",
            "Model loaded from /content/cf_model.pkl\n",
            "Model loaded from /content/cf_model.pkl\n",
            "Model loaded from /content/cf_model.pkl\n",
            "Model loaded from /content/cf_model.pkl\n"
          ]
        },
        {
          "output_type": "display_data",
          "data": {
            "text/plain": [
              "<Figure size 1000x600 with 1 Axes>"
            ],
            "image/png": "[encoded data removed]"
          },
          "metadata": {}
        }
      ]
    },
    {
      "cell_type": "markdown",
      "source": [
        "#Step 6: Export Top-k Recommendations for a User"
      ],
      "metadata": {
        "id": "yWzidh4pV9j_"
      }
    },
    {
      "cell_type": "code",
      "source": [
        "sample_user_id = 2\n",
        "recommendations = cf_model.predict(sample_user_id, top_k=20)\n",
        "\n",
        "print(f\"Top recommendations for User {sample_user_id}:\")\n",
        "recommendations.show()"
      ],
      "metadata": {
        "colab": {
          "base_uri": "https://localhost:8080/"
        },
        "id": "_hWEyZ2xVn93",
        "outputId": "0860ed51-84da-49f7-bf34-7a22100d63f7"
      },
      "execution_count": null,
      "outputs": [
        {
          "output_type": "stream",
          "name": "stdout",
          "text": [
            "Top 5 recommendations for User 2:\n",
            "+----+----------------+\n",
            "|item|predicted_rating|\n",
            "+----+----------------+\n",
            "|  29|             5.0|\n",
            "| 248|             5.0|\n",
            "| 438|             5.0|\n",
            "| 428|             5.0|\n",
            "| 432|             5.0|\n",
            "| 433|             5.0|\n",
            "| 462|             5.0|\n",
            "|  93|             5.0|\n",
            "| 128|             5.0|\n",
            "|   7|       4.7582135|\n",
            "|  42|             4.5|\n",
            "| 286|             4.5|\n",
            "| 335|             4.5|\n",
            "| 421|             4.5|\n",
            "| 425|             4.5|\n",
            "| 426|             4.5|\n",
            "| 444|             4.5|\n",
            "| 457|             4.5|\n",
            "| 385|             4.5|\n",
            "|  13|             4.0|\n",
            "+----+----------------+\n",
            "\n"
          ]
        }
      ]
    },
    {
      "cell_type": "code",
      "source": [
        "# Pick target item (movie ID)\n",
        "target_item = 190\n",
        "\n",
        "# Define a fixed list of users\n",
        "target_users = list(range(2, 17))\n",
        "\n",
        "predictions_for_item = []\n",
        "\n",
        "for uid in target_users:\n",
        "    pred_df = cf_model.predict(uid, top_k=100)\n",
        "    if pred_df is not None:\n",
        "        pred_row = pred_df.filter(F.col(\"item\") == target_item).select(\"predicted_rating\").first()\n",
        "        if pred_row:\n",
        "            predictions_for_item.append((uid, pred_row[\"predicted_rating\"]))\n",
        "\n",
        "# Convert to DataFrame\n",
        "schema = StructType([\n",
        "    StructField(\"user\", IntegerType(), True),\n",
        "    StructField(\"predicted_rating\", FloatType(), True),\n",
        "])\n",
        "item_predictions_df = spark.createDataFrame(predictions_for_item, schema)\n",
        "\n",
        "# Show predictions sorted by rating\n",
        "item_predictions_df.orderBy(F.desc(\"predicted_rating\")).show()"
      ],
      "metadata": {
        "id": "3NT6WWOrlVyF",
        "colab": {
          "base_uri": "https://localhost:8080/"
        },
        "outputId": "5ec91a79-b007-4d67-9f65-6fcb4cdcf514"
      },
      "execution_count": null,
      "outputs": [
        {
          "output_type": "stream",
          "name": "stdout",
          "text": [
            "+----+----------------+\n",
            "|user|predicted_rating|\n",
            "+----+----------------+\n",
            "|   9|       4.6140037|\n",
            "|   8|        3.973658|\n",
            "|  13|             2.0|\n",
            "+----+----------------+\n",
            "\n"
          ]
        }
      ]
    }
  ],
  "metadata": {
    "colab": {
      "provenance": [],
      "toc_visible": true
    },
    "kernelspec": {
      "display_name": "Python 3",
      "name": "python3"
    },
    "language_info": {
      "name": "python"
    }
  },
  "nbformat": 4,
  "nbformat_minor": 0
}